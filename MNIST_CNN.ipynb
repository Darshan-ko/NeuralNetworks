{
  "nbformat": 4,
  "nbformat_minor": 0,
  "metadata": {
    "colab": {
      "name": "MNIST_CNN.ipynb",
      "provenance": [],
      "collapsed_sections": []
    },
    "kernelspec": {
      "name": "python3",
      "display_name": "Python 3"
    },
    "accelerator": "GPU"
  },
  "cells": [
    {
      "cell_type": "code",
      "metadata": {
        "id": "ygpEG_3cR6_t",
        "colab_type": "code",
        "colab": {}
      },
      "source": [
        "import torch\n",
        "import torchvision\n",
        "from torchvision import datasets, transforms\n"
      ],
      "execution_count": 0,
      "outputs": []
    },
    {
      "cell_type": "code",
      "metadata": {
        "id": "cwDsvRrzSKCv",
        "colab_type": "code",
        "colab": {}
      },
      "source": [
        "\n",
        "trainset = torchvision.datasets.MNIST(root='./data', \n",
        "                                      train=True,\n",
        "                                      download=True, \n",
        "                                      transform=transforms.ToTensor())\n",
        "\n",
        "testset = torchvision.datasets.MNIST(root='./data', \n",
        "                                     train=False,\n",
        "                                     download=True, \n",
        "                                     transform=transforms.ToTensor())\n",
        "\n",
        "train = torch.utils.data.DataLoader(trainset, batch_size=32, shuffle=True)\n",
        "\n",
        "test = torch.utils.data.DataLoader(testset, batch_size=32, shuffle=True)"
      ],
      "execution_count": 0,
      "outputs": []
    },
    {
      "cell_type": "code",
      "metadata": {
        "id": "XjRr0wrESw1I",
        "colab_type": "code",
        "outputId": "f64827d6-cff1-4055-a8ef-2c5020949b2f",
        "colab": {
          "base_uri": "https://localhost:8080/",
          "height": 35
        }
      },
      "source": [
        "print(len(list(trainset)))"
      ],
      "execution_count": 0,
      "outputs": [
        {
          "output_type": "stream",
          "text": [
            "60000\n"
          ],
          "name": "stdout"
        }
      ]
    },
    {
      "cell_type": "code",
      "metadata": {
        "id": "WFsjKGq-S2hT",
        "colab_type": "code",
        "outputId": "00e56433-96f4-4444-c884-10e6370e643c",
        "colab": {
          "base_uri": "https://localhost:8080/",
          "height": 52
        }
      },
      "source": [
        "data[1]"
      ],
      "execution_count": 0,
      "outputs": [
        {
          "output_type": "execute_result",
          "data": {
            "text/plain": [
              "tensor([3, 4, 5, 4, 2, 7, 3, 7, 1, 5, 4, 1, 7, 5, 1, 2, 9, 7, 0, 1, 0, 5, 4, 3,\n",
              "        6, 9, 9, 0, 4, 5, 6, 7])"
            ]
          },
          "metadata": {
            "tags": []
          },
          "execution_count": 11
        }
      ]
    },
    {
      "cell_type": "code",
      "metadata": {
        "id": "533nPfQITSTd",
        "colab_type": "code",
        "colab": {}
      },
      "source": [
        "import torch.nn as nn\n",
        "import torch.nn.functional as F"
      ],
      "execution_count": 0,
      "outputs": []
    },
    {
      "cell_type": "code",
      "metadata": {
        "id": "JdG-nzxoTfP7",
        "colab_type": "code",
        "colab": {}
      },
      "source": [
        "class MNIST(nn.Module):\n",
        "    \n",
        "    def __init__(self):\n",
        "        super().__init__()\n",
        "\n",
        "        self.conv1 = nn.Conv2d(1, 16, 5)\n",
        "        self.conv2 = nn.Conv2d(16, 64, 5, padding=(2, 2))\n",
        "        self.conv3 = nn.Conv2d(64, 256, 3, padding = (1, 1))\n",
        "        self.pool = nn.MaxPool2d(2, 2)\n",
        "        self.fc1 = nn.Linear(256 * 3 * 3, 512)\n",
        "        self.fc2 = nn.Linear(512, 10)\n",
        "\n",
        "    def forward(self, x):\n",
        "        x = self.pool(F.relu(self.conv1(x)))\n",
        "        x = self.pool(F.relu(self.conv2(x)))\n",
        "        x = self.pool(F.relu(self.conv3(x)))\n",
        "        x = x.view(x.size(0), -1)\n",
        "        x = F.relu(self.fc1(x))\n",
        "        x = self.fc2(x)\n",
        "        return x\n",
        "\n",
        "model = MNIST()\n",
        "\n",
        "if torch.cuda.is_available:\n",
        "    model.cuda()"
      ],
      "execution_count": 0,
      "outputs": []
    },
    {
      "cell_type": "code",
      "metadata": {
        "id": "cmKHi6u1X0iP",
        "colab_type": "code",
        "outputId": "e76555bc-1386-4394-81a8-16f0811a8a83",
        "colab": {
          "base_uri": "https://localhost:8080/",
          "height": 121
        }
      },
      "source": [
        "X = torch.rand(2, 1, 28, 28)\n",
        "X = X.cuda()\n",
        "outputs = model(X)\n",
        "print(outputs)\n",
        "print(torch.argmax(outputs, 1))\n",
        "print(len(outputs))"
      ],
      "execution_count": 0,
      "outputs": [
        {
          "output_type": "stream",
          "text": [
            "tensor([[-0.0158, -0.0302, -0.0288,  0.0269,  0.0025,  0.0462,  0.0569, -0.0090,\n",
            "         -0.0157, -0.0690],\n",
            "        [-0.0146, -0.0331, -0.0301,  0.0212,  0.0039,  0.0440,  0.0552, -0.0097,\n",
            "         -0.0177, -0.0659]], device='cuda:0', grad_fn=<AddmmBackward>)\n",
            "tensor([6, 6], device='cuda:0', grad_fn=<NotImplemented>)\n",
            "2\n"
          ],
          "name": "stdout"
        }
      ]
    },
    {
      "cell_type": "code",
      "metadata": {
        "id": "pbds8VJmVfKL",
        "colab_type": "code",
        "colab": {}
      },
      "source": [
        "import torch.optim as optim"
      ],
      "execution_count": 0,
      "outputs": []
    },
    {
      "cell_type": "code",
      "metadata": {
        "id": "JMnBe5zUVG84",
        "colab_type": "code",
        "colab": {}
      },
      "source": [
        "optimizer = optim.Adam(model.parameters(), lr=0.0001)\n",
        "criterion = nn.CrossEntropyLoss()"
      ],
      "execution_count": 0,
      "outputs": []
    },
    {
      "cell_type": "code",
      "metadata": {
        "id": "a4BNFfLTVuSs",
        "colab_type": "code",
        "outputId": "6a9d2574-a1c4-4afb-d932-71124f8b24c9",
        "colab": {
          "base_uri": "https://localhost:8080/",
          "height": 225
        }
      },
      "source": [
        "epochs = 2\n",
        "\n",
        "for epoch in range(epochs):\n",
        "\n",
        "    for i, (images, labels) in enumerate(train):\n",
        "        if torch.cuda.is_available:\n",
        "            X = images.cuda()\n",
        "            y = labels.cuda()\n",
        "\n",
        "        optimizer.zero_grad()\n",
        "\n",
        "        outputs = model(X)\n",
        "        loss = criterion(outputs, y)\n",
        "        loss.backward()\n",
        "        optimizer.step()\n",
        "\n",
        "        if i%500 == 499:\n",
        "            correct = 0\n",
        "            total = 0\n",
        "            print('epoch: {} -- iteration: {} -- loss: {}'.format(epoch+1, i+1, loss))\n",
        "            for j, (images, labels) in enumerate(train):\n",
        "                if torch.cuda.is_available:\n",
        "                    X = images.cuda()\n",
        "                    y = labels.cuda()\n",
        "                outputs = model(X)\n",
        "                predicted = torch.argmax(outputs.data, 1)\n",
        "                total += y.size(0)\n",
        "                correct += (predicted == y).sum()\n",
        "                accuracy = correct/total\n",
        "            print('accuracy on the test set: {}'.format(100 * correct/total))"
      ],
      "execution_count": 0,
      "outputs": [
        {
          "output_type": "stream",
          "text": [
            "epoch: 1 -- iteration: 500 -- loss: 0.04785320162773132\n",
            "accuracy on the test set: 99\n",
            "epoch: 1 -- iteration: 1000 -- loss: 0.13865147531032562\n",
            "accuracy on the test set: 99\n",
            "epoch: 1 -- iteration: 1500 -- loss: 0.01023179292678833\n",
            "accuracy on the test set: 99\n",
            "epoch: 2 -- iteration: 500 -- loss: 0.31264787912368774\n",
            "accuracy on the test set: 99\n",
            "epoch: 2 -- iteration: 1000 -- loss: 0.0017963051795959473\n",
            "accuracy on the test set: 99\n",
            "epoch: 2 -- iteration: 1500 -- loss: 0.0004900693893432617\n",
            "accuracy on the test set: 99\n"
          ],
          "name": "stdout"
        }
      ]
    },
    {
      "cell_type": "code",
      "metadata": {
        "id": "1q2_oUk5cJ0G",
        "colab_type": "code",
        "outputId": "7b81f34b-a387-4e93-f47c-85de1c91aa03",
        "colab": {
          "base_uri": "https://localhost:8080/",
          "height": 35
        }
      },
      "source": [
        "print(loss)"
      ],
      "execution_count": 0,
      "outputs": [
        {
          "output_type": "stream",
          "text": [
            "tensor(0.0402, device='cuda:0', grad_fn=<NllLossBackward>)\n"
          ],
          "name": "stdout"
        }
      ]
    },
    {
      "cell_type": "code",
      "metadata": {
        "id": "3A0h5xPAYepD",
        "colab_type": "code",
        "outputId": "34b36b34-3bdc-4622-bd93-ab21e10a7d5d",
        "colab": {
          "base_uri": "https://localhost:8080/",
          "height": 35
        }
      },
      "source": [
        "correct = 0\n",
        "total = 0\n",
        "test_losses = []\n",
        "with torch.no_grad():\n",
        "    for j, data in enumerate(test):\n",
        "        images, labels = data\n",
        "        if (torch.cuda.is_available):\n",
        "            X = images.cuda()\n",
        "            y = labels.cuda()\n",
        "\n",
        "        outputs = model(X)\n",
        "\n",
        "\n",
        "        if j%20 == 0:\n",
        "            test_loss = loss = criterion(outputs, y)\n",
        "            test_losses.append(test_loss)\n",
        "\n",
        "        predicted = torch.argmax(outputs.data, 1)\n",
        "        total += y.size(0)\n",
        "        correct += (predicted == y).sum()\n",
        "print('Accuracy of the network on the 10000 test images: %f %%' % (\n",
        "    100 * correct / total))\n"
      ],
      "execution_count": 0,
      "outputs": [
        {
          "output_type": "stream",
          "text": [
            "Accuracy of the network on the 10000 test images: 99.000000 %\n"
          ],
          "name": "stdout"
        }
      ]
    },
    {
      "cell_type": "code",
      "metadata": {
        "id": "fFGZi90LftQh",
        "colab_type": "code",
        "colab": {}
      },
      "source": [
        "import matplotlib.pyplot as plt"
      ],
      "execution_count": 0,
      "outputs": []
    },
    {
      "cell_type": "code",
      "metadata": {
        "id": "HVjEx7aAf90A",
        "colab_type": "code",
        "outputId": "44e353c3-e0e5-4ace-be50-0e1d49e78694",
        "colab": {
          "base_uri": "https://localhost:8080/",
          "height": 1000
        }
      },
      "source": [
        "for i in range(10): \n",
        "    show_img = images[i].view(28,28)\n",
        "    plt.imshow(show_img, cmap = 'gray')\n",
        "    plt.show()\n",
        "    print(predicted[i])"
      ],
      "execution_count": 0,
      "outputs": [
        {
          "output_type": "display_data",
          "data": {
            "image/png": "[encoded data removed]",
            "text/plain": [
              "<Figure size 432x288 with 1 Axes>"
            ]
          },
          "metadata": {
            "tags": [],
            "needs_background": "light"
          }
        },
        {
          "output_type": "stream",
          "text": [
            "tensor(2, device='cuda:0')\n"
          ],
          "name": "stdout"
        },
        {
          "output_type": "display_data",
          "data": {
            "image/png": "[encoded data removed]",
            "text/plain": [
              "<Figure size 432x288 with 1 Axes>"
            ]
          },
          "metadata": {
            "tags": [],
            "needs_background": "light"
          }
        },
        {
          "output_type": "stream",
          "text": [
            "tensor(5, device='cuda:0')\n"
          ],
          "name": "stdout"
        },
        {
          "output_type": "display_data",
          "data": {
            "image/png": "[encoded data removed]",
            "text/plain": [
              "<Figure size 432x288 with 1 Axes>"
            ]
          },
          "metadata": {
            "tags": [],
            "needs_background": "light"
          }
        },
        {
          "output_type": "stream",
          "text": [
            "tensor(9, device='cuda:0')\n"
          ],
          "name": "stdout"
        },
        {
          "output_type": "display_data",
          "data": {
            "image/png": "[encoded data removed]",
            "text/plain": [
              "<Figure size 432x288 with 1 Axes>"
            ]
          },
          "metadata": {
            "tags": [],
            "needs_background": "light"
          }
        },
        {
          "output_type": "stream",
          "text": [
            "tensor(6, device='cuda:0')\n"
          ],
          "name": "stdout"
        },
        {
          "output_type": "display_data",
          "data": {
            "image/png": "[encoded data removed]",
            "text/plain": [
              "<Figure size 432x288 with 1 Axes>"
            ]
          },
          "metadata": {
            "tags": [],
            "needs_background": "light"
          }
        },
        {
          "output_type": "stream",
          "text": [
            "tensor(2, device='cuda:0')\n"
          ],
          "name": "stdout"
        },
        {
          "output_type": "display_data",
          "data": {
            "image/png": "[encoded data removed]",
            "text/plain": [
              "<Figure size 432x288 with 1 Axes>"
            ]
          },
          "metadata": {
            "tags": [],
            "needs_background": "light"
          }
        },
        {
          "output_type": "stream",
          "text": [
            "tensor(9, device='cuda:0')\n"
          ],
          "name": "stdout"
        },
        {
          "output_type": "display_data",
          "data": {
            "image/png": "[encoded data removed]",
            "text/plain": [
              "<Figure size 432x288 with 1 Axes>"
            ]
          },
          "metadata": {
            "tags": [],
            "needs_background": "light"
          }
        },
        {
          "output_type": "stream",
          "text": [
            "tensor(9, device='cuda:0')\n"
          ],
          "name": "stdout"
        },
        {
          "output_type": "display_data",
          "data": {
            "image/png": "[encoded data removed]",
            "text/plain": [
              "<Figure size 432x288 with 1 Axes>"
            ]
          },
          "metadata": {
            "tags": [],
            "needs_background": "light"
          }
        },
        {
          "output_type": "stream",
          "text": [
            "tensor(4, device='cuda:0')\n"
          ],
          "name": "stdout"
        },
        {
          "output_type": "display_data",
          "data": {
            "image/png": "[encoded data removed]",
            "text/plain": [
              "<Figure size 432x288 with 1 Axes>"
            ]
          },
          "metadata": {
            "tags": [],
            "needs_background": "light"
          }
        },
        {
          "output_type": "stream",
          "text": [
            "tensor(8, device='cuda:0')\n"
          ],
          "name": "stdout"
        },
        {
          "output_type": "display_data",
          "data": {
            "image/png": "[encoded data removed]",
            "text/plain": [
              "<Figure size 432x288 with 1 Axes>"
            ]
          },
          "metadata": {
            "tags": [],
            "needs_background": "light"
          }
        },
        {
          "output_type": "stream",
          "text": [
            "tensor(6, device='cuda:0')\n"
          ],
          "name": "stdout"
        }
      ]
    },
    {
      "cell_type": "code",
      "metadata": {
        "id": "QYdhZa_cgQQR",
        "colab_type": "code",
        "colab": {}
      },
      "source": [
        ""
      ],
      "execution_count": 0,
      "outputs": []
    }
  ]
}