{
  "nbformat": 4,
  "nbformat_minor": 0,
  "metadata": {
    "colab": {
      "name": "NeuralNetfromScratch.ipynb",
      "provenance": [],
      "collapsed_sections": []
    },
    "kernelspec": {
      "name": "python3",
      "display_name": "Python 3"
    }
  },
  "cells": [
    {
      "cell_type": "code",
      "metadata": {
        "id": "GESU9C6RZHZ4",
        "colab_type": "code",
        "outputId": "21247021-5414-4299-b8df-591ebe5ac7ea",
        "colab": {
          "base_uri": "https://localhost:8080/",
          "height": 279
        }
      },
      "source": [
        "import numpy as np\n",
        "from sklearn.datasets import make_moons\n",
        "import matplotlib.pyplot as plt\n",
        "from pandas import DataFrame\n",
        "\n",
        "# Generate a 2D classification dataset\n",
        "X, Y = make_moons(n_samples=1000, noise=0.1)\n",
        "df = DataFrame(dict(x=X[:,0], y=X[:,1], label=Y))\n",
        "colors = {0:'red', 1:'blue'}\n",
        "fig, ax = plt.subplots()\n",
        "grouped = df.groupby('label')\n",
        "for key, group in grouped:\n",
        "    group.plot(ax=ax, kind='scatter', x='x', y='y', label=key, color=colors[key])\n",
        "plt.show()"
      ],
      "execution_count": 0,
      "outputs": [
        {
          "output_type": "display_data",
          "data": {
            "image/png": "[encoded data removed]",
            "text/plain": [
              "<Figure size 432x288 with 1 Axes>"
            ]
          },
          "metadata": {
            "tags": [],
            "needs_background": "light"
          }
        }
      ]
    },
    {
      "cell_type": "code",
      "metadata": {
        "id": "TzjBa8ZPZLkv",
        "colab_type": "code",
        "outputId": "29bba329-e303-4d5a-9104-05362cc7843e",
        "colab": {
          "base_uri": "https://localhost:8080/",
          "height": 52
        }
      },
      "source": [
        "print(X.shape)\n",
        "print(Y.shape)"
      ],
      "execution_count": 0,
      "outputs": [
        {
          "output_type": "stream",
          "text": [
            "(1000, 2)\n",
            "(1000,)\n"
          ],
          "name": "stdout"
        }
      ]
    },
    {
      "cell_type": "code",
      "metadata": {
        "id": "nP_UhfquZbZP",
        "colab_type": "code",
        "colab": {}
      },
      "source": [
        "Y = Y.reshape(1, -1)\n",
        "X = X.T"
      ],
      "execution_count": 0,
      "outputs": []
    },
    {
      "cell_type": "code",
      "metadata": {
        "id": "foeFZfNQZhEt",
        "colab_type": "code",
        "outputId": "c1caf29d-5246-4a31-c16f-e098e3d6f5ea",
        "colab": {
          "base_uri": "https://localhost:8080/",
          "height": 52
        }
      },
      "source": [
        "print(X.shape)\n",
        "print(Y.shape)"
      ],
      "execution_count": 0,
      "outputs": [
        {
          "output_type": "stream",
          "text": [
            "(2, 1000)\n",
            "(1, 1000)\n"
          ],
          "name": "stdout"
        }
      ]
    },
    {
      "cell_type": "code",
      "metadata": {
        "id": "yFUyQkvLZi-Y",
        "colab_type": "code",
        "colab": {}
      },
      "source": [
        "#Let us define the architecture of the neural network\n",
        "input_size = 2\n",
        "hidden_layers = 2\n",
        "hidden_layers_size = [64, 64]\n",
        "output_size = 1 "
      ],
      "execution_count": 0,
      "outputs": []
    },
    {
      "cell_type": "code",
      "metadata": {
        "id": "OTYXLkJQZ2hz",
        "colab_type": "code",
        "colab": {}
      },
      "source": [
        "#Initializing parameters\n",
        "\n",
        "np.random.seed(42)  #for quicker convergence\n",
        "\n",
        "W1 = np.random.randn(hidden_layers_size[0], input_size)\n",
        "b1 = np.random.randn(hidden_layers_size[0], 1)\n",
        "W2 = np.random.randn(hidden_layers_size[1], hidden_layers_size[0])\n",
        "b2 = np.random.randn(hidden_layers_size[1], 1)\n",
        "W3 = np.random.randn(output_size, hidden_layers_size[0])\n",
        "b3 = np.random.randn(output_size, 1)\n"
      ],
      "execution_count": 0,
      "outputs": []
    },
    {
      "cell_type": "code",
      "metadata": {
        "id": "rYur9ytTdKpL",
        "colab_type": "code",
        "colab": {}
      },
      "source": [
        "def crossentropy(yp, y1):\n",
        "\n",
        "    loss = -1/1000 * np.sum((np.multiply(y1, np.log(yp)) + \n",
        "                           np.multiply(1-y1, np.log(1-yp))))\n",
        "    return loss\n",
        "\n",
        "def crossentropy_backward(yp, y1):\n",
        "\n",
        "    dyp = -1/1000 * ((y1/yp) - (1-y1)/(1-yp))\n",
        "\n",
        "    return dyp"
      ],
      "execution_count": 0,
      "outputs": []
    },
    {
      "cell_type": "code",
      "metadata": {
        "id": "EAhH8b-Ge1Qk",
        "colab_type": "code",
        "colab": {}
      },
      "source": [
        "def sigmoid(z):\n",
        "    return 1/(1+np.exp(-z))\n",
        "\n",
        "def sigmoid_backward(z, da):                            # The da term signifies the gradient of a w.r.t. to the variable that it was used to compute\n",
        "    return da * sigmoid(z) * (1-sigmoid(z))"
      ],
      "execution_count": 0,
      "outputs": []
    },
    {
      "cell_type": "code",
      "metadata": {
        "id": "TqhsoC4jqd_T",
        "colab_type": "code",
        "colab": {}
      },
      "source": [
        "def predictions(y):\n",
        "    for i, ys in enumerate(y.T):\n",
        "        if ys > 0.5:\n",
        "            ys = 1\n",
        "        else:\n",
        "            ys = 0\n",
        "        y.T[i] = ys\n",
        "    return y\n",
        "    \n",
        "def calc_accuracy(a, y):\n",
        "    correct = 0\n",
        "    total = 1000  \n",
        "    correct += np.sum(a == y)\n",
        "    return (correct/total)"
      ],
      "execution_count": 0,
      "outputs": []
    },
    {
      "cell_type": "code",
      "metadata": {
        "id": "EPpL5dv4e9p3",
        "colab_type": "code",
        "outputId": "c3ba76aa-9457-4405-e824-32f2e75677c9",
        "colab": {
          "base_uri": "https://localhost:8080/",
          "height": 1000
        }
      },
      "source": [
        "num_epochs = 100\n",
        "learning_rate = 0.05\n",
        "\n",
        "losses = []\n",
        "accuracies = []\n",
        "\n",
        "for epoch in range(num_epochs):\n",
        "    z1 = np.matmul(W1, X) + b1\n",
        "    a1 = sigmoid(z1)\n",
        "    z2 = np.matmul(W2, a1) + b2\n",
        "    a2 = sigmoid(z2)\n",
        "    z3 = np.matmul(W3, a2) + b3\n",
        "    a3 = sigmoid(z3)\n",
        "\n",
        "    loss = crossentropy(a3, Y)\n",
        "\n",
        "    da3 = crossentropy_backward(a3, Y)\n",
        "    dz3 = sigmoid_backward(z3, da3)\n",
        "    dW3 = np.matmul(dz3, a2.T)\n",
        "    da2 = np.matmul(W3.T, dz3)\n",
        "    db3 = np.sum(dz3, 1)\n",
        "    dz2 = sigmoid_backward(z2, da2)\n",
        "    dW2 = np.matmul(dz2, a1.T)\n",
        "    da1 = np.matmul(W2.T, dz2)\n",
        "    db2 = np.sum(dz2, 1)\n",
        "    dz1 = sigmoid_backward(z1, da1)\n",
        "    dW1 = np.matmul(dz1, X.T)\n",
        "    db1 = np.sum(dz1, 1)\n",
        "\n",
        "    print('loss for epoch {} = {}'.format(epoch+1, loss))\n",
        "    prediction = predictions(a3)\n",
        "    accuracy = calc_accuracy(prediction, Y)\n",
        "\n",
        "    losses.append(loss)\n",
        "    accuracies.append(accuracy)\n",
        "\n",
        "\n",
        "    print('accuracy for epoch {} = {}'.format(epoch+1, accuracy))\n",
        "\n",
        "    #updating parameters\n",
        "    W1 -= learning_rate * dW1\n",
        "    b1 -= learning_rate * db1.reshape(-1, 1)\n",
        "    W2 -= learning_rate * dW2\n",
        "    b2 -= learning_rate * db2.reshape(-1, 1)\n",
        "    W3 -= learning_rate * dW3\n",
        "    b3 -= learning_rate * db3.reshape(-1, 1)\n"
      ],
      "execution_count": 0,
      "outputs": [
        {
          "output_type": "stream",
          "text": [
            "loss for epoch 1 = 1.3330299427708696\n",
            "accuracy for epoch 1 = 0.5\n",
            "loss for epoch 2 = 0.8156181396082448\n",
            "accuracy for epoch 2 = 0.343\n",
            "loss for epoch 3 = 0.7193429160242011\n",
            "accuracy for epoch 3 = 0.482\n",
            "loss for epoch 4 = 0.6725691234893927\n",
            "accuracy for epoch 4 = 0.534\n",
            "loss for epoch 5 = 0.6330187399197851\n",
            "accuracy for epoch 5 = 0.559\n",
            "loss for epoch 6 = 0.5990159720379662\n",
            "accuracy for epoch 6 = 0.571\n",
            "loss for epoch 7 = 0.569604003264805\n",
            "accuracy for epoch 7 = 0.591\n",
            "loss for epoch 8 = 0.5440083710280237\n",
            "accuracy for epoch 8 = 0.698\n",
            "loss for epoch 9 = 0.5215983454411781\n",
            "accuracy for epoch 9 = 0.739\n",
            "loss for epoch 10 = 0.5018589185797179\n",
            "accuracy for epoch 10 = 0.756\n",
            "loss for epoch 11 = 0.48436828715949426\n",
            "accuracy for epoch 11 = 0.768\n",
            "loss for epoch 12 = 0.4687798934178713\n",
            "accuracy for epoch 12 = 0.776\n",
            "loss for epoch 13 = 0.4548080926760107\n",
            "accuracy for epoch 13 = 0.79\n",
            "loss for epoch 14 = 0.4422166817944412\n",
            "accuracy for epoch 14 = 0.797\n",
            "loss for epoch 15 = 0.4308096893790661\n",
            "accuracy for epoch 15 = 0.805\n",
            "loss for epoch 16 = 0.42042396229299633\n",
            "accuracy for epoch 16 = 0.807\n",
            "loss for epoch 17 = 0.41092318489774066\n",
            "accuracy for epoch 17 = 0.816\n",
            "loss for epoch 18 = 0.40219304470561407\n",
            "accuracy for epoch 18 = 0.821\n",
            "loss for epoch 19 = 0.39413731739194574\n",
            "accuracy for epoch 19 = 0.827\n",
            "loss for epoch 20 = 0.38667469024869383\n",
            "accuracy for epoch 20 = 0.835\n",
            "loss for epoch 21 = 0.3797361795111873\n",
            "accuracy for epoch 21 = 0.835\n",
            "loss for epoch 22 = 0.373263025867195\n",
            "accuracy for epoch 22 = 0.839\n",
            "loss for epoch 23 = 0.36720497550346276\n",
            "accuracy for epoch 23 = 0.841\n",
            "loss for epoch 24 = 0.361518872472663\n",
            "accuracy for epoch 24 = 0.844\n",
            "loss for epoch 25 = 0.3561675029038445\n",
            "accuracy for epoch 25 = 0.846\n",
            "loss for epoch 26 = 0.3511186433645044\n",
            "accuracy for epoch 26 = 0.848\n",
            "loss for epoch 27 = 0.346344275098032\n",
            "accuracy for epoch 27 = 0.851\n",
            "loss for epoch 28 = 0.3418199333781756\n",
            "accuracy for epoch 28 = 0.853\n",
            "loss for epoch 29 = 0.33752416722284706\n",
            "accuracy for epoch 29 = 0.857\n",
            "loss for epoch 30 = 0.33343808949954085\n",
            "accuracy for epoch 30 = 0.859\n",
            "loss for epoch 31 = 0.3295450012801848\n",
            "accuracy for epoch 31 = 0.862\n",
            "loss for epoch 32 = 0.3258300773615805\n",
            "accuracy for epoch 32 = 0.863\n",
            "loss for epoch 33 = 0.3222801023161884\n",
            "accuracy for epoch 33 = 0.864\n",
            "loss for epoch 34 = 0.3188832484021935\n",
            "accuracy for epoch 34 = 0.865\n",
            "loss for epoch 35 = 0.31562888824107915\n",
            "accuracy for epoch 35 = 0.869\n",
            "loss for epoch 36 = 0.3125074364442315\n",
            "accuracy for epoch 36 = 0.872\n",
            "loss for epoch 37 = 0.30951021539981377\n",
            "accuracy for epoch 37 = 0.874\n",
            "loss for epoch 38 = 0.30662934126666364\n",
            "accuracy for epoch 38 = 0.878\n",
            "loss for epoch 39 = 0.3038576269022822\n",
            "accuracy for epoch 39 = 0.878\n",
            "loss for epoch 40 = 0.30118849900793876\n",
            "accuracy for epoch 40 = 0.878\n",
            "loss for epoch 41 = 0.2986159272299024\n",
            "accuracy for epoch 41 = 0.88\n",
            "loss for epoch 42 = 0.2961343633311378\n",
            "accuracy for epoch 42 = 0.88\n",
            "loss for epoch 43 = 0.2937386888577993\n",
            "accuracy for epoch 43 = 0.88\n",
            "loss for epoch 44 = 0.29142416998170734\n",
            "accuracy for epoch 44 = 0.88\n",
            "loss for epoch 45 = 0.2891864184134294\n",
            "accuracy for epoch 45 = 0.881\n",
            "loss for epoch 46 = 0.28702135745839863\n",
            "accuracy for epoch 46 = 0.881\n",
            "loss for epoch 47 = 0.2849251924369694\n",
            "accuracy for epoch 47 = 0.881\n",
            "loss for epoch 48 = 0.282894384813489\n",
            "accuracy for epoch 48 = 0.883\n",
            "loss for epoch 49 = 0.2809256294834882\n",
            "accuracy for epoch 49 = 0.885\n",
            "loss for epoch 50 = 0.2790158347553253\n",
            "accuracy for epoch 50 = 0.888\n",
            "loss for epoch 51 = 0.27716210463582686\n",
            "accuracy for epoch 51 = 0.889\n",
            "loss for epoch 52 = 0.27536172309093093\n",
            "accuracy for epoch 52 = 0.89\n",
            "loss for epoch 53 = 0.2736121400039667\n",
            "accuracy for epoch 53 = 0.89\n",
            "loss for epoch 54 = 0.27191095859754877\n",
            "accuracy for epoch 54 = 0.891\n",
            "loss for epoch 55 = 0.2702559241214798\n",
            "accuracy for epoch 55 = 0.894\n",
            "loss for epoch 56 = 0.2686449136396147\n",
            "accuracy for epoch 56 = 0.894\n",
            "loss for epoch 57 = 0.2670759267742981\n",
            "accuracy for epoch 57 = 0.894\n",
            "loss for epoch 58 = 0.26554707728851135\n",
            "accuracy for epoch 58 = 0.894\n",
            "loss for epoch 59 = 0.26405658540392973\n",
            "accuracy for epoch 59 = 0.896\n",
            "loss for epoch 60 = 0.26260277076823585\n",
            "accuracy for epoch 60 = 0.896\n",
            "loss for epoch 61 = 0.26118404599774664\n",
            "accuracy for epoch 61 = 0.897\n",
            "loss for epoch 62 = 0.25979891073207095\n",
            "accuracy for epoch 62 = 0.897\n",
            "loss for epoch 63 = 0.25844594614646815\n",
            "accuracy for epoch 63 = 0.897\n",
            "loss for epoch 64 = 0.2571238098750908\n",
            "accuracy for epoch 64 = 0.898\n",
            "loss for epoch 65 = 0.25583123130462093\n",
            "accuracy for epoch 65 = 0.899\n",
            "loss for epoch 66 = 0.25456700720312686\n",
            "accuracy for epoch 66 = 0.899\n",
            "loss for epoch 67 = 0.2533299976534599\n",
            "accuracy for epoch 67 = 0.901\n",
            "loss for epoch 68 = 0.2521191222643021\n",
            "accuracy for epoch 68 = 0.902\n",
            "loss for epoch 69 = 0.2509333566351924\n",
            "accuracy for epoch 69 = 0.903\n",
            "loss for epoch 70 = 0.24977172905459186\n",
            "accuracy for epoch 70 = 0.903\n",
            "loss for epoch 71 = 0.24863331741237596\n",
            "accuracy for epoch 71 = 0.904\n",
            "loss for epoch 72 = 0.2475172463101406\n",
            "accuracy for epoch 72 = 0.904\n",
            "loss for epoch 73 = 0.24642268435441916\n",
            "accuracy for epoch 73 = 0.904\n",
            "loss for epoch 74 = 0.24534884161938994\n",
            "accuracy for epoch 74 = 0.904\n",
            "loss for epoch 75 = 0.24429496726693714\n",
            "accuracy for epoch 75 = 0.904\n",
            "loss for epoch 76 = 0.24326034731304505\n",
            "accuracy for epoch 76 = 0.904\n",
            "loss for epoch 77 = 0.24224430253048887\n",
            "accuracy for epoch 77 = 0.905\n",
            "loss for epoch 78 = 0.24124618647864376\n",
            "accuracy for epoch 78 = 0.905\n",
            "loss for epoch 79 = 0.24026538365200095\n",
            "accuracy for epoch 79 = 0.906\n",
            "loss for epoch 80 = 0.23930130773965436\n",
            "accuracy for epoch 80 = 0.906\n",
            "loss for epoch 81 = 0.23835339998862975\n",
            "accuracy for epoch 81 = 0.906\n",
            "loss for epoch 82 = 0.23742112766446974\n",
            "accuracy for epoch 82 = 0.906\n",
            "loss for epoch 83 = 0.2365039826029785\n",
            "accuracy for epoch 83 = 0.906\n",
            "loss for epoch 84 = 0.2356014798474708\n",
            "accuracy for epoch 84 = 0.907\n",
            "loss for epoch 85 = 0.23471315636627335\n",
            "accuracy for epoch 85 = 0.908\n",
            "loss for epoch 86 = 0.23383856984559043\n",
            "accuracy for epoch 86 = 0.908\n",
            "loss for epoch 87 = 0.23297729755317811\n",
            "accuracy for epoch 87 = 0.909\n",
            "loss for epoch 88 = 0.23212893526857972\n",
            "accuracy for epoch 88 = 0.909\n",
            "loss for epoch 89 = 0.2312930962759514\n",
            "accuracy for epoch 89 = 0.909\n",
            "loss for epoch 90 = 0.23046941041576696\n",
            "accuracy for epoch 90 = 0.909\n",
            "loss for epoch 91 = 0.22965752319192662\n",
            "accuracy for epoch 91 = 0.909\n",
            "loss for epoch 92 = 0.22885709493101303\n",
            "accuracy for epoch 92 = 0.909\n",
            "loss for epoch 93 = 0.22806779999064214\n",
            "accuracy for epoch 93 = 0.909\n",
            "loss for epoch 94 = 0.22728932601404056\n",
            "accuracy for epoch 94 = 0.91\n",
            "loss for epoch 95 = 0.22652137322815766\n",
            "accuracy for epoch 95 = 0.91\n",
            "loss for epoch 96 = 0.22576365378277963\n",
            "accuracy for epoch 96 = 0.91\n",
            "loss for epoch 97 = 0.22501589112826487\n",
            "accuracy for epoch 97 = 0.91\n",
            "loss for epoch 98 = 0.2242778194296563\n",
            "accuracy for epoch 98 = 0.91\n",
            "loss for epoch 99 = 0.2235491830150604\n",
            "accuracy for epoch 99 = 0.91\n",
            "loss for epoch 100 = 0.2228297358563002\n",
            "accuracy for epoch 100 = 0.91\n"
          ],
          "name": "stdout"
        }
      ]
    },
    {
      "cell_type": "code",
      "metadata": {
        "id": "Bnk2aHXkryFe",
        "colab_type": "code",
        "outputId": "84a675b8-5280-4e9c-b608-b773673d9e1a",
        "colab": {
          "base_uri": "https://localhost:8080/",
          "height": 279
        }
      },
      "source": [
        "import matplotlib.pyplot as plt\n",
        "fig, ax = plt.subplots()\n",
        "\n",
        "ax.plot(losses, color=\"blue\")\n",
        "ax.set_xlabel(\"Num Epochs\")\n",
        "ax.set_ylabel(\"Loss\")\n",
        "\n",
        "ax2 = ax.twinx()\n",
        "ax2.plot(accuracies, color=\"red\")\n",
        "ax2.set_ylabel(\"Accuracy\")\n",
        "\n",
        "plt.show()"
      ],
      "execution_count": 0,
      "outputs": [
        {
          "output_type": "display_data",
          "data": {
            "image/png": "[encoded data removed]",
            "text/plain": [
              "<Figure size 432x288 with 2 Axes>"
            ]
          },
          "metadata": {
            "tags": [],
            "needs_background": "light"
          }
        }
      ]
    },
    {
      "cell_type": "code",
      "metadata": {
        "id": "kOUvw_LMWF7c",
        "colab_type": "code",
        "colab": {}
      },
      "source": [
        ""
      ],
      "execution_count": 0,
      "outputs": []
    }
  ]
}