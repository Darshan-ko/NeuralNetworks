{
  "nbformat": 4,
  "nbformat_minor": 0,
  "metadata": {
    "colab": {
      "name": "NeuralNetfromScratch.ipynb",
      "provenance": []
    },
    "kernelspec": {
      "name": "python3",
      "display_name": "Python 3"
    }
  },
  "cells": [
    {
      "cell_type": "code",
      "metadata": {
        "id": "GESU9C6RZHZ4",
        "colab_type": "code",
        "outputId": "3cc9fd7b-a196-4073-d521-0baa63374845",
        "colab": {
          "base_uri": "https://localhost:8080/",
          "height": 279
        }
      },
      "source": [
        "import numpy as np\n",
        "from sklearn.datasets import make_moons\n",
        "import matplotlib.pyplot as plt\n",
        "from pandas import DataFrame\n",
        "\n",
        "# Generate a 2D classification dataset\n",
        "X, Y = make_moons(n_samples=1000, noise=0.1)\n",
        "df = DataFrame(dict(x=X[:,0], y=X[:,1], label=Y))\n",
        "colors = {0:'red', 1:'blue'}\n",
        "fig, ax = plt.subplots()\n",
        "grouped = df.groupby('label')\n",
        "for key, group in grouped:\n",
        "    group.plot(ax=ax, kind='scatter', x='x', y='y', label=key, color=colors[key])\n",
        "plt.show()"
      ],
      "execution_count": 0,
      "outputs": [
        {
          "output_type": "display_data",
          "data": {
            "image/png": "[encoded data removed]",
            "text/plain": [
              "<Figure size 432x288 with 1 Axes>"
            ]
          },
          "metadata": {
            "tags": [],
            "needs_background": "light"
          }
        }
      ]
    },
    {
      "cell_type": "code",
      "metadata": {
        "id": "TzjBa8ZPZLkv",
        "colab_type": "code",
        "outputId": "d447c9f9-8696-4e06-eb5f-5c15f0a4556c",
        "colab": {
          "base_uri": "https://localhost:8080/",
          "height": 52
        }
      },
      "source": [
        "print(X.shape)\n",
        "print(Y.shape)"
      ],
      "execution_count": 0,
      "outputs": [
        {
          "output_type": "stream",
          "text": [
            "(1000, 2)\n",
            "(1000,)\n"
          ],
          "name": "stdout"
        }
      ]
    },
    {
      "cell_type": "code",
      "metadata": {
        "id": "nP_UhfquZbZP",
        "colab_type": "code",
        "colab": {}
      },
      "source": [
        "Y = Y.reshape(1, -1)\n",
        "X = X.T"
      ],
      "execution_count": 0,
      "outputs": []
    },
    {
      "cell_type": "code",
      "metadata": {
        "id": "foeFZfNQZhEt",
        "colab_type": "code",
        "outputId": "c4e00281-2522-4a20-aedf-3f1c959eb0f8",
        "colab": {
          "base_uri": "https://localhost:8080/",
          "height": 52
        }
      },
      "source": [
        "print(X.shape)\n",
        "print(Y.shape)"
      ],
      "execution_count": 0,
      "outputs": [
        {
          "output_type": "stream",
          "text": [
            "(2, 1000)\n",
            "(1, 1000)\n"
          ],
          "name": "stdout"
        }
      ]
    },
    {
      "cell_type": "code",
      "metadata": {
        "id": "yFUyQkvLZi-Y",
        "colab_type": "code",
        "colab": {}
      },
      "source": [
        "#Let us define the architecture of the neural network\n",
        "input_size = 2\n",
        "hidden_layers = 2\n",
        "hidden_layers_size = [64, 64]\n",
        "output_size = 1 "
      ],
      "execution_count": 0,
      "outputs": []
    },
    {
      "cell_type": "code",
      "metadata": {
        "id": "OTYXLkJQZ2hz",
        "colab_type": "code",
        "colab": {}
      },
      "source": [
        "#Initializing parameters\n",
        "\n",
        "np.random.seed(42)  #for quicker convergence\n",
        "\n",
        "W1 = np.random.randn(hidden_layers_size[0], input_size)\n",
        "b1 = np.random.randn(hidden_layers_size[0], 1)\n",
        "W2 = np.random.randn(hidden_layers_size[1], hidden_layers_size[0])\n",
        "b2 = np.random.randn(hidden_layers_size[1], 1)\n",
        "W3 = np.random.randn(output_size, hidden_layers_size[0])\n",
        "b3 = np.random.randn(output_size, 1)\n"
      ],
      "execution_count": 0,
      "outputs": []
    },
    {
      "cell_type": "code",
      "metadata": {
        "id": "rYur9ytTdKpL",
        "colab_type": "code",
        "colab": {}
      },
      "source": [
        "def crossentropy(yp, y1):\n",
        "\n",
        "    loss = -1/1000 * np.sum((np.multiply(y1, np.log(yp)) + \n",
        "                           np.multiply(1-y1, np.log(1-yp))))\n",
        "    return loss\n",
        "\n",
        "def crossentropy_backward(yp, y1):\n",
        "\n",
        "    dyp = -1/1000 * ((y1/yp) - (1-y1)/(1-yp))\n",
        "\n",
        "    return dyp"
      ],
      "execution_count": 0,
      "outputs": []
    },
    {
      "cell_type": "code",
      "metadata": {
        "id": "EAhH8b-Ge1Qk",
        "colab_type": "code",
        "colab": {}
      },
      "source": [
        "def sigmoid(z):\n",
        "    return 1/(1+np.exp(-z))\n",
        "\n",
        "def sigmoid_backward(z, da):                            # The da term signifies the gradient of a w.r.t. to the variable that it was used to compute\n",
        "    return da * sigmoid(z) * sigmoid(1-z)"
      ],
      "execution_count": 0,
      "outputs": []
    },
    {
      "cell_type": "code",
      "metadata": {
        "id": "TqhsoC4jqd_T",
        "colab_type": "code",
        "colab": {}
      },
      "source": [
        "def predictions(y):\n",
        "    for i, ys in enumerate(y.T):\n",
        "        if ys > 0.5:\n",
        "            ys = 1\n",
        "        else:\n",
        "            ys = 0\n",
        "        y.T[i] = ys\n",
        "    return y\n",
        "    \n",
        "def calc_accuracy(a, y):\n",
        "    correct = 0\n",
        "    total = 1000  \n",
        "    correct += np.sum(a == y)\n",
        "    return (correct/total)"
      ],
      "execution_count": 0,
      "outputs": []
    },
    {
      "cell_type": "code",
      "metadata": {
        "id": "EPpL5dv4e9p3",
        "colab_type": "code",
        "outputId": "b31d2cb9-427a-4457-d0e2-9cb2ef857d6a",
        "colab": {
          "base_uri": "https://localhost:8080/",
          "height": 1000
        }
      },
      "source": [
        "num_epochs = 100\n",
        "learning_rate = 0.05\n",
        "\n",
        "losses = []\n",
        "accuracies = []\n",
        "\n",
        "for epoch in range(num_epochs):\n",
        "    z1 = np.matmul(W1, X) + b1\n",
        "    a1 = sigmoid(z1)\n",
        "    z2 = np.matmul(W2, a1) + b2\n",
        "    a2 = sigmoid(z2)\n",
        "    z3 = np.matmul(W3, a2) + b3\n",
        "    a3 = sigmoid(z3)\n",
        "\n",
        "    loss = crossentropy(a3, Y)\n",
        "\n",
        "    da3 = crossentropy_backward(a3, Y)\n",
        "    dz3 = sigmoid_backward(z3, da3)\n",
        "    dW3 = np.matmul(dz3, a2.T)\n",
        "    da2 = np.matmul(W3.T, dz3)\n",
        "    db3 = np.sum(dz3, 1)\n",
        "    dz2 = sigmoid_backward(z2, da2)\n",
        "    dW2 = np.matmul(dz2, a1.T)\n",
        "    da1 = np.matmul(W2.T, dz2)\n",
        "    db2 = np.sum(dz2, 1)\n",
        "    dz1 = sigmoid_backward(z1, da1)\n",
        "    dW1 = np.matmul(dz1, X.T)\n",
        "    db1 = np.sum(dz1, 1)\n",
        "\n",
        "    print('loss for epoch {} = {}'.format(epoch+1, loss))\n",
        "    prediction = predictions(a3)\n",
        "    accuracy = calc_accuracy(prediction, Y)\n",
        "\n",
        "    losses.append(loss)\n",
        "    accuracies.append(accuracy)\n",
        "\n",
        "\n",
        "    print('accuracy for epoch {} = {}'.format(epoch+1, accuracy))\n",
        "\n",
        "    #updating parameters\n",
        "    W1 -= learning_rate * dW1\n",
        "    b1 -= learning_rate * db1.reshape(-1, 1)\n",
        "    W2 -= learning_rate * dW2\n",
        "    b2 -= learning_rate * db2.reshape(-1, 1)\n",
        "    W3 -= learning_rate * dW3\n",
        "    b3 -= learning_rate * db3.reshape(-1, 1)\n"
      ],
      "execution_count": 0,
      "outputs": [
        {
          "output_type": "stream",
          "text": [
            "loss for epoch 1 = 1.3467067934122452\n",
            "accuracy for epoch 1 = 0.5\n",
            "loss for epoch 2 = 0.9417293397076446\n",
            "accuracy for epoch 2 = 0.519\n",
            "loss for epoch 3 = 0.7691727810666448\n",
            "accuracy for epoch 3 = 0.305\n",
            "loss for epoch 4 = 0.6952450882844698\n",
            "accuracy for epoch 4 = 0.514\n",
            "loss for epoch 5 = 0.6437694709770103\n",
            "accuracy for epoch 5 = 0.562\n",
            "loss for epoch 6 = 0.6017229800789387\n",
            "accuracy for epoch 6 = 0.583\n",
            "loss for epoch 7 = 0.5664660785979263\n",
            "accuracy for epoch 7 = 0.674\n",
            "loss for epoch 8 = 0.5365747632015372\n",
            "accuracy for epoch 8 = 0.712\n",
            "loss for epoch 9 = 0.5110137137041442\n",
            "accuracy for epoch 9 = 0.737\n",
            "loss for epoch 10 = 0.4889888587606543\n",
            "accuracy for epoch 10 = 0.748\n",
            "loss for epoch 11 = 0.46987635127568855\n",
            "accuracy for epoch 11 = 0.752\n",
            "loss for epoch 12 = 0.45317721290412466\n",
            "accuracy for epoch 12 = 0.766\n",
            "loss for epoch 13 = 0.43848720618624465\n",
            "accuracy for epoch 13 = 0.775\n",
            "loss for epoch 14 = 0.42547623280631036\n",
            "accuracy for epoch 14 = 0.781\n",
            "loss for epoch 15 = 0.41387360613352886\n",
            "accuracy for epoch 15 = 0.787\n",
            "loss for epoch 16 = 0.4034569688998008\n",
            "accuracy for epoch 16 = 0.794\n",
            "loss for epoch 17 = 0.39404356795367923\n",
            "accuracy for epoch 17 = 0.803\n",
            "loss for epoch 18 = 0.3854831669810181\n",
            "accuracy for epoch 18 = 0.811\n",
            "loss for epoch 19 = 0.3776521941519791\n",
            "accuracy for epoch 19 = 0.816\n",
            "loss for epoch 20 = 0.37044888402882886\n",
            "accuracy for epoch 20 = 0.82\n",
            "loss for epoch 21 = 0.3637892512216169\n",
            "accuracy for epoch 21 = 0.823\n",
            "loss for epoch 22 = 0.35760377001403765\n",
            "accuracy for epoch 22 = 0.833\n",
            "loss for epoch 23 = 0.3518346530149643\n",
            "accuracy for epoch 23 = 0.84\n",
            "loss for epoch 24 = 0.3464336342604568\n",
            "accuracy for epoch 24 = 0.844\n",
            "loss for epoch 25 = 0.34136017283728537\n",
            "accuracy for epoch 25 = 0.848\n",
            "loss for epoch 26 = 0.3365800034834999\n",
            "accuracy for epoch 26 = 0.85\n",
            "loss for epoch 27 = 0.3320639708416029\n",
            "accuracy for epoch 27 = 0.853\n",
            "loss for epoch 28 = 0.32778709377873133\n",
            "accuracy for epoch 28 = 0.856\n",
            "loss for epoch 29 = 0.3237278151195443\n",
            "accuracy for epoch 29 = 0.857\n",
            "loss for epoch 30 = 0.31986740005511627\n",
            "accuracy for epoch 30 = 0.858\n",
            "loss for epoch 31 = 0.31618945331928944\n",
            "accuracy for epoch 31 = 0.861\n",
            "loss for epoch 32 = 0.31267953098582907\n",
            "accuracy for epoch 32 = 0.864\n",
            "loss for epoch 33 = 0.3093248275199662\n",
            "accuracy for epoch 33 = 0.864\n",
            "loss for epoch 34 = 0.30611392263159465\n",
            "accuracy for epoch 34 = 0.866\n",
            "loss for epoch 35 = 0.3030365756487064\n",
            "accuracy for epoch 35 = 0.869\n",
            "loss for epoch 36 = 0.3000835576787769\n",
            "accuracy for epoch 36 = 0.872\n",
            "loss for epoch 37 = 0.2972465138619161\n",
            "accuracy for epoch 37 = 0.875\n",
            "loss for epoch 38 = 0.29451784963790173\n",
            "accuracy for epoch 38 = 0.876\n",
            "loss for epoch 39 = 0.2918906362304872\n",
            "accuracy for epoch 39 = 0.877\n",
            "loss for epoch 40 = 0.28935853156377017\n",
            "accuracy for epoch 40 = 0.877\n",
            "loss for epoch 41 = 0.28691571362198065\n",
            "accuracy for epoch 41 = 0.877\n",
            "loss for epoch 42 = 0.2845568238903706\n",
            "accuracy for epoch 42 = 0.878\n",
            "loss for epoch 43 = 0.28227691900682755\n",
            "accuracy for epoch 43 = 0.88\n",
            "loss for epoch 44 = 0.2800714291399803\n",
            "accuracy for epoch 44 = 0.884\n",
            "loss for epoch 45 = 0.2779361219126413\n",
            "accuracy for epoch 45 = 0.884\n",
            "loss for epoch 46 = 0.2758670709273846\n",
            "accuracy for epoch 46 = 0.885\n",
            "loss for epoch 47 = 0.2738606281380477\n",
            "accuracy for epoch 47 = 0.885\n",
            "loss for epoch 48 = 0.2719133994580644\n",
            "accuracy for epoch 48 = 0.886\n",
            "loss for epoch 49 = 0.2700222231125073\n",
            "accuracy for epoch 49 = 0.888\n",
            "loss for epoch 50 = 0.2681841503323388\n",
            "accuracy for epoch 50 = 0.889\n",
            "loss for epoch 51 = 0.2663964280619674\n",
            "accuracy for epoch 51 = 0.892\n",
            "loss for epoch 52 = 0.2646564834089125\n",
            "accuracy for epoch 52 = 0.892\n",
            "loss for epoch 53 = 0.2629619096104481\n",
            "accuracy for epoch 53 = 0.892\n",
            "loss for epoch 54 = 0.2613104533290216\n",
            "accuracy for epoch 54 = 0.893\n",
            "loss for epoch 55 = 0.2597000031179979\n",
            "accuracy for epoch 55 = 0.894\n",
            "loss for epoch 56 = 0.25812857892338414\n",
            "accuracy for epoch 56 = 0.895\n",
            "loss for epoch 57 = 0.2565943225068405\n",
            "accuracy for epoch 57 = 0.895\n",
            "loss for epoch 58 = 0.255095488691391\n",
            "accuracy for epoch 58 = 0.898\n",
            "loss for epoch 59 = 0.2536304373445562\n",
            "accuracy for epoch 59 = 0.9\n",
            "loss for epoch 60 = 0.2521976260246912\n",
            "accuracy for epoch 60 = 0.901\n",
            "loss for epoch 61 = 0.25079560322556876\n",
            "accuracy for epoch 61 = 0.902\n",
            "loss for epoch 62 = 0.24942300216205923\n",
            "accuracy for epoch 62 = 0.902\n",
            "loss for epoch 63 = 0.24807853504638266\n",
            "accuracy for epoch 63 = 0.902\n",
            "loss for epoch 64 = 0.24676098781007733\n",
            "accuracy for epoch 64 = 0.903\n",
            "loss for epoch 65 = 0.24546921523169982\n",
            "accuracy for epoch 65 = 0.903\n",
            "loss for epoch 66 = 0.24420213643449218\n",
            "accuracy for epoch 66 = 0.904\n",
            "loss for epoch 67 = 0.24295873072192295\n",
            "accuracy for epoch 67 = 0.904\n",
            "loss for epoch 68 = 0.24173803372222716\n",
            "accuracy for epoch 68 = 0.904\n",
            "loss for epoch 69 = 0.24053913381589515\n",
            "accuracy for epoch 69 = 0.904\n",
            "loss for epoch 70 = 0.23936116882256117\n",
            "accuracy for epoch 70 = 0.905\n",
            "loss for epoch 71 = 0.23820332292596083\n",
            "accuracy for epoch 71 = 0.905\n",
            "loss for epoch 72 = 0.23706482381759952\n",
            "accuracy for epoch 72 = 0.906\n",
            "loss for epoch 73 = 0.2359449400415395\n",
            "accuracy for epoch 73 = 0.906\n",
            "loss for epoch 74 = 0.23484297852429353\n",
            "accuracy for epoch 74 = 0.907\n",
            "loss for epoch 75 = 0.23375828227523404\n",
            "accuracy for epoch 75 = 0.907\n",
            "loss for epoch 76 = 0.2326902282442045\n",
            "accuracy for epoch 76 = 0.907\n",
            "loss for epoch 77 = 0.23163822532417555\n",
            "accuracy for epoch 77 = 0.907\n",
            "loss for epoch 78 = 0.2306017124878282\n",
            "accuracy for epoch 78 = 0.907\n",
            "loss for epoch 79 = 0.2295801570478951\n",
            "accuracy for epoch 79 = 0.907\n",
            "loss for epoch 80 = 0.22857305303194284\n",
            "accuracy for epoch 80 = 0.907\n",
            "loss for epoch 81 = 0.22757991966305838\n",
            "accuracy for epoch 81 = 0.907\n",
            "loss for epoch 82 = 0.22660029993860775\n",
            "accuracy for epoch 82 = 0.908\n",
            "loss for epoch 83 = 0.2256337592998776\n",
            "accuracy for epoch 83 = 0.908\n",
            "loss for epoch 84 = 0.22467988438599673\n",
            "accuracy for epoch 84 = 0.908\n",
            "loss for epoch 85 = 0.22373828186606604\n",
            "accuracy for epoch 85 = 0.908\n",
            "loss for epoch 86 = 0.22280857734391288\n",
            "accuracy for epoch 86 = 0.909\n",
            "loss for epoch 87 = 0.22189041433033027\n",
            "accuracy for epoch 87 = 0.909\n",
            "loss for epoch 88 = 0.22098345327806532\n",
            "accuracy for epoch 88 = 0.909\n",
            "loss for epoch 89 = 0.22008737067519304\n",
            "accuracy for epoch 89 = 0.91\n",
            "loss for epoch 90 = 0.2192018581928499\n",
            "accuracy for epoch 90 = 0.91\n",
            "loss for epoch 91 = 0.21832662188361185\n",
            "accuracy for epoch 91 = 0.91\n",
            "loss for epoch 92 = 0.21746138142708565\n",
            "accuracy for epoch 92 = 0.911\n",
            "loss for epoch 93 = 0.21660586941954144\n",
            "accuracy for epoch 93 = 0.911\n",
            "loss for epoch 94 = 0.21575983070465385\n",
            "accuracy for epoch 94 = 0.911\n",
            "loss for epoch 95 = 0.214923021742637\n",
            "accuracy for epoch 95 = 0.911\n",
            "loss for epoch 96 = 0.21409521001525944\n",
            "accuracy for epoch 96 = 0.911\n",
            "loss for epoch 97 = 0.21327617346440883\n",
            "accuracy for epoch 97 = 0.911\n",
            "loss for epoch 98 = 0.21246569996204653\n",
            "accuracy for epoch 98 = 0.912\n",
            "loss for epoch 99 = 0.2116635868095456\n",
            "accuracy for epoch 99 = 0.915\n",
            "loss for epoch 100 = 0.2108696402645515\n",
            "accuracy for epoch 100 = 0.916\n"
          ],
          "name": "stdout"
        }
      ]
    },
    {
      "cell_type": "code",
      "metadata": {
        "id": "Bnk2aHXkryFe",
        "colab_type": "code",
        "outputId": "cc78f0d8-622c-4a64-a99d-5aed506dfd57",
        "colab": {
          "base_uri": "https://localhost:8080/",
          "height": 283
        }
      },
      "source": [
        "import matplotlib.pyplot as plt\n",
        "fig, ax = plt.subplots()\n",
        "\n",
        "ax.plot(losses, color=\"blue\")\n",
        "ax.set_xlabel(\"Num Epochs\")\n",
        "ax.set_ylabel(\"Loss\")\n",
        "\n",
        "ax2 = ax.twinx()\n",
        "ax2.plot(accuracies, color=\"red\")\n",
        "ax2.set_ylabel(\"Accuracy\")\n",
        "\n",
        "plt.show()"
      ],
      "execution_count": 0,
      "outputs": [
        {
          "output_type": "display_data",
          "data": {
            "image/png": "[encoded data removed]",
            "text/plain": [
              "<Figure size 432x288 with 2 Axes>"
            ]
          },
          "metadata": {
            "tags": [],
            "needs_background": "light"
          }
        }
      ]
    }
  ]
}